{
 "cells": [
  {
   "cell_type": "markdown",
   "metadata": {},
   "source": [
    "# Rent vs Buy\n",
    "Should you rent or buy?"
   ]
  },
  {
   "cell_type": "markdown",
   "metadata": {},
   "source": [
    "#### Load some useful packages"
   ]
  },
  {
   "cell_type": "code",
   "execution_count": 32,
   "metadata": {},
   "outputs": [],
   "source": [
    "using Distributions, Formatting"
   ]
  },
  {
   "cell_type": "markdown",
   "metadata": {},
   "source": [
    "#### Specify input values\n",
    "These are user defined estimates. The current values are the default values used in the NYT rent vs buy calculator."
   ]
  },
  {
   "cell_type": "code",
   "execution_count": 33,
   "metadata": {},
   "outputs": [],
   "source": [
    "tourLength = 9 # how long you'll stay in years\n",
    "oppRate = 4 # annual percent rate of return on money that can be invested or saved\n",
    "infRate = 2 # annual inflation rate\n",
    "taxProperty = 1.35 # property tax as percent of home price\n",
    "taxMarginal = 20 # effective marginal tax rate including federal, state, and local\n",
    "taxFees = 0 # percent of monthly common fees that are tax deductible\n",
    "taxMarital = 1 # 0 if filing individual, 1 if filing joint\n",
    "buy_price = 250_000 # home price in dollars\n",
    "buy_mortgageRate = 3.67 # mortgage rate in percent\n",
    "buy_down = 20 # down payment in percent of home price\n",
    "buy_mortgageLength = 30 # length of mortgage in years\n",
    "buy_growthRate = 3 # home price growth rate in percent per year\n",
    "buy_closeBuyer = 4 # closing costs to buyer as percent home price\n",
    "buy_closeSeller = 6 # closing costs to seller as percent home price\n",
    "buy_mx = 1 # annual amount spent on maintenance, repairs, and renovations as a percent of purchase price\n",
    "buy_insurance = 0.46 # annual homeowners insurance as a percent of home value\n",
    "buy_utilities = 100 # monthly utilites that a landlord would cover\n",
    "buy_fees = 0 # monthly condo, association, community fees\n",
    "rent_growthRate = 2.5 # rental price growth rate in percent per year\n",
    "rent_deposit = 1 # months of rent kept as security deposit\n",
    "rent_broker = 0 # percent of annual rent charged as broker fee\n",
    "rent_insurance = 1.32 # rental insurance as percent of annual rent;"
   ]
  },
  {
   "cell_type": "markdown",
   "metadata": {},
   "source": [
    "#### Initialize variables\n",
    "Set up the variables that we will use in our calculations."
   ]
  },
  {
   "cell_type": "code",
   "execution_count": 34,
   "metadata": {},
   "outputs": [],
   "source": [
    "# buy output vectors\n",
    "buy_cost_initial = 0\n",
    "buy_cost_recur = 0\n",
    "buy_cost_opp = 0\n",
    "buy_cost_proceeds = 0\n",
    "buy_cost_total = 0 # total costs associated with buying after tourLength years\n",
    "\n",
    "# rent output vectors\n",
    "rent_cost_initial = 0\n",
    "rent_cost_recur = 0\n",
    "rent_cost_opp = 0\n",
    "rent_cost_proceeds = 0\n",
    "rent_cost_total = 0 # total costs associated with renting after tourLength years\n",
    "\n",
    "# final output\n",
    "eq_rent = 0 # if you can rent a similar home for less than this, renting is better\n",
    "\n",
    "# intermediate variables\n",
    "buy_mortgageMonthly = 0 # monthly mortgage \n",
    "debtMonthly = 0 # amount of mortgage debt paid in a given month\n",
    "taxPropMonthly = 0 # monthly property taxes\n",
    "buy_cost_monthly = 0 # monthly cost associated with buying;"
   ]
  },
  {
   "cell_type": "markdown",
   "metadata": {},
   "source": [
    "#### Calculate NPV of Buying\n",
    "First we calculate the initial costs"
   ]
  },
  {
   "cell_type": "code",
   "execution_count": 35,
   "metadata": {},
   "outputs": [
    {
     "data": {
      "text/plain": [
       "60000.0"
      ]
     },
     "execution_count": 35,
     "metadata": {},
     "output_type": "execute_result"
    }
   ],
   "source": [
    "buy_cost_initial = ((buy_down + buy_closeBuyer) / 100) * buy_price"
   ]
  },
  {
   "cell_type": "markdown",
   "metadata": {},
   "source": [
    "Then we calculate the monthly mortgage payment"
   ]
  },
  {
   "cell_type": "code",
   "execution_count": 36,
   "metadata": {},
   "outputs": [
    {
     "data": {
      "text/plain": [
       "917.17565301025"
      ]
     },
     "execution_count": 36,
     "metadata": {},
     "output_type": "execute_result"
    }
   ],
   "source": [
    "P = buy_price - (buy_down / 100) * buy_price # principal\n",
    "r = (buy_mortgageRate / 100) / 12 # annual interest rate to months\n",
    "n = buy_mortgageLength * 12 # number of monthly mortgage payments\n",
    "loanBalance = P # total outstanding debt\n",
    "buy_mortgageMonthly = P * (r * (1 + r) ^ n) / ((1 + r)^ n - 1)"
   ]
  },
  {
   "cell_type": "markdown",
   "metadata": {},
   "source": [
    "Then the recurring costs. \n",
    "\n",
    "(There might be a problem with the loan balance here...it doesn't match a loan calculator I found online)"
   ]
  },
  {
   "cell_type": "code",
   "execution_count": 37,
   "metadata": {},
   "outputs": [],
   "source": [
    "for i = 1:(tourLength * 12)\n",
    "  taxPropMonthly = ((taxProperty / 100) * buy_price / 12) * ((1 + (buy_growthRate / 100) / 12) ^ i)\n",
    "  loanBalance = (P * (1 + r) ^ i) - (buy_mortgageMonthly / r) * ((1 + r) ^ i - 1)\n",
    "  debtMonthly = loanBalance * (buy_mortgageRate / 100) / 12\n",
    "  buy_cost_monthly = buy_mortgageMonthly + \n",
    "    buy_fees * ((1 + (infRate / 100) / 12) ^ i) + \n",
    "    buy_utilities * ((1 + (infRate / 100) / 12) ^ i) +\n",
    "    ((buy_mx / 100) * buy_price / 12) * ((1 + ((buy_growthRate + infRate) / 100) / 12) ^ i) +\n",
    "    ((buy_insurance / 100) * buy_price / 12) * ((1 + ((buy_growthRate + infRate) / 100) / 12) ^ i) +\n",
    "    taxPropMonthly - \n",
    "    (taxPropMonthly + debtMonthly) * (taxMarginal / 100)\n",
    "    buy_cost_recur = buy_cost_recur + (buy_cost_monthly / ((1 + ((oppRate - infRate) / 100) / 12) ^ i))\n",
    "end"
   ]
  },
  {
   "cell_type": "markdown",
   "metadata": {},
   "source": [
    "Then the opportunity cost.\n",
    "\n",
    "(this cost also doesn't match the calculator results. changing the inflation rate affects this value a lot but not the value on the NYT calculator)"
   ]
  },
  {
   "cell_type": "code",
   "execution_count": 38,
   "metadata": {},
   "outputs": [
    {
     "data": {
      "text/plain": [
       "27891.30496117563"
      ]
     },
     "execution_count": 38,
     "metadata": {},
     "output_type": "execute_result"
    }
   ],
   "source": [
    "buy_cost_opp = (((buy_cost_initial + buy_cost_recur) * (1 + (oppRate - infRate) / 100) ^ tourLength -\n",
    "                  (buy_cost_initial + buy_cost_recur)) * (1 - taxMarginal / 100)) * \n",
    "                  (1 / ((1 + (oppRate - infRate) / 100) ^ tourLength))"
   ]
  },
  {
   "cell_type": "markdown",
   "metadata": {},
   "source": [
    "Then the proceeds from selling the house (which can be negative since it's defined as a cost)"
   ]
  },
  {
   "cell_type": "code",
   "execution_count": 39,
   "metadata": {},
   "outputs": [
    {
     "data": {
      "text/plain": [
       "-121872.31411297157"
      ]
     },
     "execution_count": 39,
     "metadata": {},
     "output_type": "execute_result"
    }
   ],
   "source": [
    "buy_cost_proceeds = (-1) * \n",
    "    (buy_price * ((1 + buy_growthRate / 100) ^ tourLength ) * (1 - buy_closeSeller / 100) - loanBalance) * \n",
    "    (1 / ((1 + (oppRate - infRate) / 100) ^ tourLength))"
   ]
  },
  {
   "cell_type": "markdown",
   "metadata": {},
   "source": [
    "Now add up all the intermediate costs to get the total buying cost"
   ]
  },
  {
   "cell_type": "code",
   "execution_count": 40,
   "metadata": {},
   "outputs": [
    {
     "data": {
      "text/plain": [
       "119588.7"
      ]
     },
     "execution_count": 40,
     "metadata": {},
     "output_type": "execute_result"
    }
   ],
   "source": [
    "buy_cost_total = round(buy_cost_initial + buy_cost_recur + buy_cost_opp + buy_cost_proceeds, 2)"
   ]
  },
  {
   "cell_type": "markdown",
   "metadata": {},
   "source": [
    "#### Results\n",
    "Take the costs and the difference between our costs and the NYT calculator costs, then format them as dollars"
   ]
  },
  {
   "cell_type": "code",
   "execution_count": 41,
   "metadata": {},
   "outputs": [],
   "source": [
    "# formatted costs\n",
    "bci = format(buy_cost_initial, commas = true, precision = 2)\n",
    "bcr = format(buy_cost_recur, commas = true, precision = 2)\n",
    "bco = format(buy_cost_opp, commas = true, precision = 2)\n",
    "bcp = format(buy_cost_proceeds, commas = true, precision = 2)\n",
    "bct = format(buy_cost_total, commas = true, precision = 2)\n",
    "\n",
    "#formatted cost differences\n",
    "bci_d = format(buy_cost_initial - 60000, commas = true, precision = 2)\n",
    "bcr_d = format(buy_cost_recur - 163398, commas = true, precision = 2)\n",
    "bco_d = format(buy_cost_opp - 44587, commas = true, precision = 2)\n",
    "bcp_d = format(buy_cost_proceeds + 145659, commas = true, precision = 2)\n",
    "bct_d = format(buy_cost_total - 122337, commas = true, precision = 2);"
   ]
  },
  {
   "cell_type": "markdown",
   "metadata": {},
   "source": [
    "Display the costs and differences.\n",
    "\n",
    "(The difference here is pretty small but with other inputs the difference can be large)"
   ]
  },
  {
   "cell_type": "code",
   "execution_count": 43,
   "metadata": {},
   "outputs": [
    {
     "name": "stdout",
     "output_type": "stream",
     "text": [
      "Model Output: Buy\n",
      "Initial costs: $60,000.00 \t \t Diff: $0.00\n",
      "Recurring costs: $153,569.71 \t \t Diff: $-9,828.29\n",
      "Opportunity costs: $27,891.30 \t \t Diff: $-16,695.70\n",
      "Net Proceeds: $-121,872.31 \t \t Diff: $23,786.69\n",
      "Total: $119,588.70 \t \t \t Diff: $-2,748.30\n"
     ]
    }
   ],
   "source": [
    "println(\"Model Output: Buy\")\n",
    "println(\"Initial costs: \\$$bci \\t \\t Diff: \\$$bci_d\")\n",
    "println(\"Recurring costs: \\$$bcr \\t \\t Diff: \\$$bcr_d\")\n",
    "println(\"Opportunity costs: \\$$bco \\t \\t Diff: \\$$bco_d\")\n",
    "println(\"Net Proceeds: \\$$bcp \\t \\t Diff: \\$$bcp_d\")\n",
    "println(\"Total: \\$$bct \\t \\t \\t Diff: \\$$bct_d\")"
   ]
  }
 ],
 "metadata": {
  "kernelspec": {
   "display_name": "Julia 0.6.2",
   "language": "julia",
   "name": "julia-0.6"
  },
  "language_info": {
   "file_extension": ".jl",
   "mimetype": "application/julia",
   "name": "julia",
   "version": "0.6.2"
  }
 },
 "nbformat": 4,
 "nbformat_minor": 2
}
